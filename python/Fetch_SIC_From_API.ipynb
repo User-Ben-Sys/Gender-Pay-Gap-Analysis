{
 "cells": [
  {
   "cell_type": "code",
   "execution_count": null,
   "id": "ebce1ef1",
   "metadata": {},
   "outputs": [],
   "source": [
    "# import required libraries\n",
    "# requests.auth to securely pass API key with the request\n",
    "import requests\n",
    "from requests.auth import HTTPBasicAuth\n",
    "import pandas as pd\n",
    "import time"
   ]
  },
  {
   "cell_type": "code",
   "execution_count": null,
   "id": "e04cd0da",
   "metadata": {},
   "outputs": [],
   "source": [
    "# Companies House API key\n",
    "API_KEY = ''\n",
    "\n",
    "# API endpoint for advanced company search\n",
    "SEARCH_URL = 'https://api.company-information.service.gov.uk/advanced-search/companies'"
   ]
  },
  {
   "cell_type": "code",
   "execution_count": null,
   "id": "74c516b9",
   "metadata": {},
   "outputs": [],
   "source": [
    "# Load Excel file containing companies with missing SIC codes\n",
    "df = pd.read_excel('Dataset/Companies Missing SIC code.xlsx')"
   ]
  },
  {
   "cell_type": "code",
   "execution_count": null,
   "id": "79272d6f",
   "metadata": {},
   "outputs": [],
   "source": [
    "# Add empty columns to store fetched Company Numbers and SIC Codes\n",
    "df['CompanyNumber'] = ''\n",
    "df['SIC_Codes'] = ''"
   ]
  },
  {
   "cell_type": "code",
   "execution_count": null,
   "id": "86930618",
   "metadata": {},
   "outputs": [],
   "source": [
    "# Function to fetch company number and SIC codes using company name\n",
    "def get_company_details(company_name):\n",
    "    params = {\n",
    "        'company_name_includes': company_name, # Use the company name as the search query\n",
    "        'size': 1  # Limit to top 1 match for accuracy\n",
    "    }\n",
    "    try:\n",
    "        response = requests.get(SEARCH_URL, params=params, auth=HTTPBasicAuth(API_KEY, ''))\n",
    "        if response.status_code == 200:\n",
    "            data = response.json()\n",
    "            # Extract 'items' from the JSON (the list of matching companies)\n",
    "            items = data.get('items', [])\n",
    "            if items:\n",
    "                item = items[0]\n",
    "                return item.get('company_number', ''), item.get('sic_codes', [])\n",
    "    except Exception as e:\n",
    "        print(f\"Error fetching {company_name}: {e}\")\n",
    "    return '', []"
   ]
  },
  {
   "cell_type": "code",
   "execution_count": null,
   "id": "6b25eb3b",
   "metadata": {},
   "outputs": [],
   "source": [
    "# Loop through each company to fetch and fill missing data\n",
    "for idx, row in df.iterrows():\n",
    "    # Extract the company name from the current row in the 'CompanyName' column\n",
    "    company = row['CompanyName']\n",
    "    number, sic = get_company_details(company)\n",
    "    df.at[idx, 'CompanyNumber'] = number\n",
    "    df.at[idx, 'SIC_Codes'] = ', '.join(sic) if sic else ''\n",
    "    print(f\"{company} → {number} | {sic}\")\n",
    "\n",
    "    time.sleep(0.5)  # Sleep to prevent hitting rate limits"
   ]
  },
  {
   "cell_type": "code",
   "execution_count": null,
   "id": "88586017",
   "metadata": {},
   "outputs": [],
   "source": [
    "# Save the updated DataFrame to a new Excel file\n",
    "df.to_excel('Dataset/Companies_With_SIC_Filled.xlsx', index=False)\n",
    "print(\"Done!\")"
   ]
  }
 ],
 "metadata": {
  "kernelspec": {
   "display_name": "base",
   "language": "python",
   "name": "python3"
  },
  "language_info": {
   "codemirror_mode": {
    "name": "ipython",
    "version": 3
   },
   "file_extension": ".py",
   "mimetype": "text/x-python",
   "name": "python",
   "nbconvert_exporter": "python",
   "pygments_lexer": "ipython3",
   "version": "3.12.7"
  }
 },
 "nbformat": 4,
 "nbformat_minor": 5
}
